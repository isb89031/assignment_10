{
 "cells": [
  {
   "cell_type": "markdown",
   "id": "2829bbb4",
   "metadata": {},
   "source": [
    "## Import the libraries"
   ]
  },
  {
   "cell_type": "code",
   "execution_count": null,
   "id": "ad3ffcae",
   "metadata": {},
   "outputs": [],
   "source": [
    "import pandas as pd\n",
    "from sklearn.datasets import fetch_openml  \n",
    "from sklearn.model_selection import train_test_split\n",
    "from analysis.fit_model import *\n",
    "from analysis.plots import *"
   ]
  },
  {
   "cell_type": "markdown",
   "id": "875030eb",
   "metadata": {},
   "source": [
    "## Load in the data"
   ]
  },
  {
   "cell_type": "code",
   "execution_count": null,
   "id": "7d0b853b",
   "metadata": {
    "scrolled": false
   },
   "outputs": [],
   "source": [
    "X_initial, y = fetch_openml(\"titanic\", version=1, as_frame=True, return_X_y=True)\n",
    "combine_dataset = pd.concat([X_initial, y], axis=1)\n",
    "combine_dataset.head()"
   ]
  },
  {
   "cell_type": "code",
   "execution_count": null,
   "id": "c5a52897",
   "metadata": {},
   "outputs": [],
   "source": [
    "# Save the dataset for R (if needed)\n",
    "#combine_dataset.to_csv('../data/titanic_openml.csv', index=None)  #provide a file path"
   ]
  },
  {
   "cell_type": "markdown",
   "id": "9a667729",
   "metadata": {},
   "source": [
    "### Add the variable that is in previous analysis"
   ]
  },
  {
   "cell_type": "code",
   "execution_count": null,
   "id": "f2237c76",
   "metadata": {},
   "outputs": [],
   "source": [
    "combine_dataset['family size'] = combine_dataset['sibsp'] + combine_dataset['parch'] + 1"
   ]
  },
  {
   "cell_type": "markdown",
   "id": "08089b4d",
   "metadata": {},
   "source": [
    "### Pipelines: Pre-Processing Stage"
   ]
  },
  {
   "cell_type": "code",
   "execution_count": null,
   "id": "1f87f3d3",
   "metadata": {},
   "outputs": [],
   "source": [
    "features = ['age', 'fare', 'embarked', 'sex', 'pclass', 'family size']\n",
    "X = combine_dataset[features].copy()\n",
    "\n",
    "numerical_features = ['age', 'fare', 'family size']\n",
    "categorical_features = ['embarked', 'sex', 'pclass']"
   ]
  },
  {
   "cell_type": "markdown",
   "id": "448a97b6",
   "metadata": {},
   "source": [
    "## Plot the data"
   ]
  },
  {
   "cell_type": "code",
   "execution_count": null,
   "id": "21059d7f",
   "metadata": {},
   "outputs": [],
   "source": [
    "eda_plots(combine_dataset, 'survived', numerical_features, categorical_features)"
   ]
  },
  {
   "cell_type": "markdown",
   "id": "fb8f2f9b",
   "metadata": {},
   "source": [
    "## Create the test and training sets"
   ]
  },
  {
   "cell_type": "code",
   "execution_count": null,
   "id": "1970b9c7",
   "metadata": {},
   "outputs": [],
   "source": [
    "X_train, X_test, y_train, y_test = train_test_split(X, y, test_size=0.5,random_state=1)"
   ]
  },
  {
   "cell_type": "markdown",
   "id": "66d66045",
   "metadata": {},
   "source": [
    "## Fit the models using the package"
   ]
  },
  {
   "cell_type": "code",
   "execution_count": null,
   "id": "19d92cf4",
   "metadata": {},
   "outputs": [],
   "source": [
    "fitted_mods = fit_model(X_train, y_train, ['logistic regression', 'tree', 'gradient boosting', 'svm', 'penalised logistic regression', 'gradient boosting', 'random forest'], numerical_features, categorical_features)"
   ]
  },
  {
   "cell_type": "markdown",
   "id": "afd6ce84",
   "metadata": {},
   "source": [
    "ROC plot:"
   ]
  },
  {
   "cell_type": "code",
   "execution_count": null,
   "id": "7e5951df",
   "metadata": {},
   "outputs": [],
   "source": [
    "comparison_plot(fitted_mods, X_test, y_test)"
   ]
  },
  {
   "cell_type": "code",
   "execution_count": null,
   "id": "43813e95",
   "metadata": {},
   "outputs": [],
   "source": [
    "eda_plots?"
   ]
  },
  {
   "cell_type": "code",
   "execution_count": null,
   "id": "9c94b572",
   "metadata": {},
   "outputs": [],
   "source": [
    "help(eda_plots)"
   ]
  },
  {
   "cell_type": "code",
   "execution_count": null,
   "id": "4418ff3d",
   "metadata": {},
   "outputs": [],
   "source": [
    "fit_model?"
   ]
  },
  {
   "cell_type": "code",
   "execution_count": null,
   "id": "34909530",
   "metadata": {},
   "outputs": [],
   "source": [
    "comparison_plot?"
   ]
  },
  {
   "cell_type": "code",
   "execution_count": null,
   "id": "e210cc63",
   "metadata": {},
   "outputs": [],
   "source": []
  }
 ],
 "metadata": {
  "kernelspec": {
   "display_name": "Python 3",
   "language": "python",
   "name": "python3"
  },
  "language_info": {
   "codemirror_mode": {
    "name": "ipython",
    "version": 3
   },
   "file_extension": ".py",
   "mimetype": "text/x-python",
   "name": "python",
   "nbconvert_exporter": "python",
   "pygments_lexer": "ipython3",
   "version": "3.8.8"
  }
 },
 "nbformat": 4,
 "nbformat_minor": 5
}
